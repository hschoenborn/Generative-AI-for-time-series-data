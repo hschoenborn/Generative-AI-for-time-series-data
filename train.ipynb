{
 "cells": [
  {
   "cell_type": "markdown",
   "metadata": {},
   "source": [
    "# Training a CTGAN model/ synthesizer"
   ]
  },
  {
   "cell_type": "code",
   "execution_count": 37,
   "metadata": {},
   "outputs": [],
   "source": [
    "%%capture\n",
    "# Load libraries\n",
    "\n",
    "import pandas as pd\n",
    "import os\n",
    "import warnings\n",
    "\n",
    "import plotly.graph_objects as go\n",
    "\n",
    "from datetime import datetime\n",
    "from sdv.single_table import CTGANSynthesizer\n",
    "from sdv.datasets.local import load_csvs\n",
    "from sdv.metadata import SingleTableMetadata"
   ]
  },
  {
   "cell_type": "code",
   "execution_count": 38,
   "metadata": {},
   "outputs": [],
   "source": [
    "# Ignore warnings\n",
    "warnings.filterwarnings(\"ignore\")"
   ]
  },
  {
   "cell_type": "markdown",
   "metadata": {},
   "source": [
    "# Data preperation"
   ]
  },
  {
   "cell_type": "code",
   "execution_count": 39,
   "metadata": {},
   "outputs": [],
   "source": [
    "%%capture\n",
    "# Get current timestamp for unique identifiers\n",
    "current_timestamp = datetime.now().strftime(\"%Y%m%d_%H%M%S\")\n",
    "\n",
    "# Load real data\n",
    "input_folder = './input/'\n",
    "input_file_name = input(\"Enter the input file name: \").lower()\n",
    "real_data_path = os.path.join(input_folder, input_file_name + '.csv')\n",
    "real_data = pd.read_csv(real_data_path)"
   ]
  },
  {
   "cell_type": "code",
   "execution_count": 40,
   "metadata": {},
   "outputs": [],
   "source": [
    "%%capture\n",
    "# Manually create metadata that describes our real dataset\n",
    "metadata_dict = {\n",
    "    \"columns\": {\n",
    "        \"Timestamp\": {\n",
    "            \"sdtype\": \"datetime\",\n",
    "            \"datetime_format\": \"%Y-%m-%d %H:%M:%S\"\n",
    "        },\n",
    "        \"Source.IP\": {\n",
    "            \"sdtype\": \"categorical\"\n",
    "        },\n",
    "        \"Source.Port\": {\n",
    "            \"sdtype\": \"categorical\"\n",
    "        },\n",
    "        \"Destination.IP\": {\n",
    "            \"sdtype\": \"categorical\"\n",
    "        },\n",
    "        \"Destination.Port\": {\n",
    "            \"sdtype\": \"categorical\"\n",
    "        },\n",
    "        \"Protocol\": {\n",
    "            \"sdtype\": \"categorical\"\n",
    "        },\n",
    "        \"Flow.Duration\": {\n",
    "            \"sdtype\": \"numerical\"\n",
    "        },\n",
    "        \"Total.Fwd.Packets\": {\n",
    "            \"sdtype\": \"numerical\"\n",
    "        },\n",
    "        \"Total.Backward.Packets\": {\n",
    "            \"sdtype\": \"numerical\"\n",
    "        },\n",
    "        \"Total.Length.of.Fwd.Packets\": {\n",
    "            \"sdtype\": \"numerical\"\n",
    "        },\n",
    "        \"Total.Length.of.Bwd.Packets\": {\n",
    "            \"sdtype\": \"numerical\"\n",
    "        }\n",
    "    },\n",
    "    \"METADATA_SPEC_VERSION\": \"SINGLE_TABLE_V1\"\n",
    "}\n",
    "metadata = SingleTableMetadata.load_from_dict(metadata_dict)\n",
    "# print(metadata)  # DEBUG, validate metadata"
   ]
  },
  {
   "cell_type": "markdown",
   "metadata": {},
   "source": [
    "Modelling"
   ]
  },
  {
   "cell_type": "code",
   "execution_count": 41,
   "metadata": {},
   "outputs": [],
   "source": [
    "# Input arguments\n",
    "load_existing = input(\"Do you want to load an existing GAN model? (yes/no): \").lower()\n",
    "if load_existing == \"yes\":\n",
    "    model_name = input(\"Enter the name of the model to load (without '.pkl' extension): \") + '.pkl'\n",
    "    synthesizer = CTGANSynthesizer.load(filepath=model_name)\n",
    "else:\n",
    "    enforce_rounding = input(\"Enforce rounding for synthetic data? (yes [default] /no): \").lower() == \"yes\"  # default true, control whether the synthetic data should have same number of decimal digits as the real data\n",
    "    enforce_min_max_values = input(\"Enforce min/max values for synthetic data? (yes [default] /no): \").lower() == \"yes\"  # default true, control whether the synthetic data should adhere to same min/max boundaries as the real data\n",
    "    epochs = int(input(\"Enter the number of epochs for training [default=300]: \") or 300)\n",
    "    cuda = input(\"Enable CUDA computing? (yes/no): \").lower() == \"yes\"\n",
    "    synthesizer = CTGANSynthesizer(\n",
    "        metadata=metadata,\n",
    "        enforce_rounding=enforce_rounding,\n",
    "        enforce_min_max_values=enforce_min_max_values,\n",
    "        epochs=epochs,\n",
    "        verbose=True,\n",
    "        cuda=cuda\n",
    "    )"
   ]
  },
  {
   "cell_type": "code",
   "execution_count": 42,
   "metadata": {},
   "outputs": [
    {
     "name": "stdout",
     "output_type": "stream",
     "text": [
      "Final model path: model\\ctgan_medium_input_ep2_mdl1.pkl\n"
     ]
    }
   ],
   "source": [
    "# Create model path\n",
    "model_folder = 'model'\n",
    "os.makedirs(model_folder, exist_ok=True)\n",
    "model_number = 1\n",
    "model_base_name = f'_ctgan_i_{args.input}_ep{args.epochs}'\n",
    "model_name = 'mdl' + str(model_number) + model_base_name + '.pkl'\n",
    "model_path = os.path.join(model_folder, model_name)\n",
    "print(model_path)\n",
    "\n",
    "while os.path.exists(model_path):\n",
    "    print('Model path already exists:', model_path)\n",
    "    model_number += 1\n",
    "    model_name = 'mdl' + str(model_number) + model_base_name + '.pkl'\n",
    "    model_path = os.path.join(model_folder, model_name)\n",
    "\n",
    "print(\"Final model path:\", model_path)"
   ]
  },
  {
   "cell_type": "markdown",
   "metadata": {},
   "source": [
    "# Training the model synthesizer"
   ]
  },
  {
   "cell_type": "code",
   "execution_count": 43,
   "metadata": {},
   "outputs": [
    {
     "name": "stdout",
     "output_type": "stream",
     "text": [
      "PerformanceAlert: Using the CTGANSynthesizer on this data is not recommended. To model this data, CTGAN will generate a large number of columns.\n",
      "\n",
      "Original Column Name        Est # of Columns (CTGAN)\n",
      "Timestamp                   11\n",
      "Source.IP                   183\n",
      "Source.Port                 2494\n",
      "Destination.IP              348\n",
      "Destination.Port            1089\n",
      "Protocol                    1\n",
      "Flow.Duration               11\n",
      "Total.Fwd.Packets           11\n",
      "Total.Backward.Packets      11\n",
      "Total.Length.of.Fwd.Packets 11\n",
      "Total.Length.of.Bwd.Packets 11\n",
      "\n",
      "We recommend preprocessing discrete columns that can have many values, using 'update_transformers'. Or you may drop columns that are not necessary to model. (Exit this script using ctrl-C)\n"
     ]
    },
    {
     "name": "stderr",
     "output_type": "stream",
     "text": [
      "Gen. (5.34) | Discrim. (-0.42): 100%|██████████| 2/2 [01:14<00:00, 37.44s/it]\n"
     ]
    }
   ],
   "source": [
    "# Training\n",
    "synthesizer.fit(real_data)\n",
    "\n",
    "# Save trained model\n",
    "synthesizer.save(filepath=model_path)"
   ]
  },
  {
   "cell_type": "code",
   "execution_count": 44,
   "metadata": {},
   "outputs": [
    {
     "data": {
      "text/plain": [
       "{'enforce_min_max_values': True,\n",
       " 'enforce_rounding': True,\n",
       " 'locales': ['en_US'],\n",
       " 'embedding_dim': 128,\n",
       " 'generator_dim': (256, 256),\n",
       " 'discriminator_dim': (256, 256),\n",
       " 'generator_lr': 0.0002,\n",
       " 'generator_decay': 1e-06,\n",
       " 'discriminator_lr': 0.0002,\n",
       " 'discriminator_decay': 1e-06,\n",
       " 'batch_size': 500,\n",
       " 'discriminator_steps': 1,\n",
       " 'log_frequency': True,\n",
       " 'verbose': True,\n",
       " 'epochs': 2,\n",
       " 'pac': 10,\n",
       " 'cuda': False}"
      ]
     },
     "execution_count": 44,
     "metadata": {},
     "output_type": "execute_result"
    }
   ],
   "source": [
    "# Check parameters\n",
    "synthesizer.get_parameters()\n",
    "# synthesizer.get_metadata()"
   ]
  },
  {
   "cell_type": "code",
   "execution_count": 45,
   "metadata": {},
   "outputs": [
    {
     "name": "stdout",
     "output_type": "stream",
     "text": [
      "Final logs for losses path:  logs\\losses_ctgan_medium_input_ep2_mdl1.pkl_20240419_111435.csv\n"
     ]
    }
   ],
   "source": [
    "# Create log folder if it does not exist\n",
    "log_folder = 'logs'\n",
    "os.makedirs(log_folder, exist_ok=True)\n",
    "training_log_file_name = 'information.txt'\n",
    "training_log_file_name = os.path.join(log_folder, training_log_file_name)\n",
    "with open(training_log_file_name, 'a') as log:\n",
    "    log.write(f\"--- CTGAN model training started at: {current_timestamp}\\n\")\n",
    "    log.write(f\"\\tModel name: {model_name}\\n\")\n",
    "    log.write(f\"\\tModel path: {model_path}\\n\")\n",
    "    log.write(f\"\\tModel was {'NOT' if not {cuda} else ''} trained using CUDA\\n\")\n",
    "    log.write(f\"\\tTraining on {epochs} epochs\\n\")\n",
    "    log.write(f\"\\tInput file path: {os.path.join('input', input_file_name+'.csv')}\\n\")\n",
    "\n",
    "# Save model losses in log folder as CSV\n",
    "losses = synthesizer.get_loss_values()\n",
    "model_log_file_name = f'losses_{model_name}_{current_timestamp}.csv'\n",
    "model_log_file_path = os.path.join(log_folder, model_log_file_name)\n",
    "losses.to_csv(model_log_file_path, index=False)\n",
    "\n",
    "print(\"Final logs for losses path: \", model_log_file_path)"
   ]
  },
  {
   "cell_type": "markdown",
   "metadata": {},
   "source": [
    "#  Some outputs"
   ]
  },
  {
   "cell_type": "code",
   "execution_count": 46,
   "metadata": {},
   "outputs": [
    {
     "data": {
      "text/html": [
       "<div>\n",
       "<style scoped>\n",
       "    .dataframe tbody tr th:only-of-type {\n",
       "        vertical-align: middle;\n",
       "    }\n",
       "\n",
       "    .dataframe tbody tr th {\n",
       "        vertical-align: top;\n",
       "    }\n",
       "\n",
       "    .dataframe thead th {\n",
       "        text-align: right;\n",
       "    }\n",
       "</style>\n",
       "<table border=\"1\" class=\"dataframe\">\n",
       "  <thead>\n",
       "    <tr style=\"text-align: right;\">\n",
       "      <th></th>\n",
       "      <th>Epoch</th>\n",
       "      <th>Generator Loss</th>\n",
       "      <th>Discriminator Loss</th>\n",
       "    </tr>\n",
       "  </thead>\n",
       "  <tbody>\n",
       "    <tr>\n",
       "      <th>0</th>\n",
       "      <td>0</td>\n",
       "      <td>5.464275</td>\n",
       "      <td>-0.296103</td>\n",
       "    </tr>\n",
       "    <tr>\n",
       "      <th>1</th>\n",
       "      <td>1</td>\n",
       "      <td>5.339439</td>\n",
       "      <td>-0.421249</td>\n",
       "    </tr>\n",
       "  </tbody>\n",
       "</table>\n",
       "</div>"
      ],
      "text/plain": [
       "   Epoch  Generator Loss  Discriminator Loss\n",
       "0      0        5.464275           -0.296103\n",
       "1      1        5.339439           -0.421249"
      ]
     },
     "execution_count": 46,
     "metadata": {},
     "output_type": "execute_result"
    }
   ],
   "source": [
    "losses.head()"
   ]
  },
  {
   "cell_type": "markdown",
   "metadata": {},
   "source": [
    "# Examine loss values"
   ]
  },
  {
   "cell_type": "code",
   "execution_count": 57,
   "metadata": {},
   "outputs": [],
   "source": [
    "loss_values = pd.read_csv(model_log_file_path)\n",
    "#logs\\losses_ctgan_medium_input_ep2_mdl1.pkl_20240419_111435.csv"
   ]
  },
  {
   "cell_type": "code",
   "execution_count": 59,
   "metadata": {},
   "outputs": [
    {
     "data": {
      "application/vnd.plotly.v1+json": {
       "config": {
        "plotlyServerURL": "https://plot.ly"
       },
       "data": [
        {
         "name": "Generator Loss",
         "type": "scatter",
         "x": [
          0,
          1
         ],
         "y": [
          5.464275360107422,
          5.339439392089844
         ]
        },
        {
         "name": "Discriminator Loss",
         "type": "scatter",
         "x": [
          0,
          1
         ],
         "y": [
          -0.2961029410362243,
          -0.4212491512298584
         ]
        }
       ],
       "layout": {
        "legend": {
         "orientation": "h",
         "x": 0,
         "y": 1.1
        },
        "template": {
         "data": {
          "bar": [
           {
            "error_x": {
             "color": "#2a3f5f"
            },
            "error_y": {
             "color": "#2a3f5f"
            },
            "marker": {
             "line": {
              "color": "white",
              "width": 0.5
             },
             "pattern": {
              "fillmode": "overlay",
              "size": 10,
              "solidity": 0.2
             }
            },
            "type": "bar"
           }
          ],
          "barpolar": [
           {
            "marker": {
             "line": {
              "color": "white",
              "width": 0.5
             },
             "pattern": {
              "fillmode": "overlay",
              "size": 10,
              "solidity": 0.2
             }
            },
            "type": "barpolar"
           }
          ],
          "carpet": [
           {
            "aaxis": {
             "endlinecolor": "#2a3f5f",
             "gridcolor": "#C8D4E3",
             "linecolor": "#C8D4E3",
             "minorgridcolor": "#C8D4E3",
             "startlinecolor": "#2a3f5f"
            },
            "baxis": {
             "endlinecolor": "#2a3f5f",
             "gridcolor": "#C8D4E3",
             "linecolor": "#C8D4E3",
             "minorgridcolor": "#C8D4E3",
             "startlinecolor": "#2a3f5f"
            },
            "type": "carpet"
           }
          ],
          "choropleth": [
           {
            "colorbar": {
             "outlinewidth": 0,
             "ticks": ""
            },
            "type": "choropleth"
           }
          ],
          "contour": [
           {
            "colorbar": {
             "outlinewidth": 0,
             "ticks": ""
            },
            "colorscale": [
             [
              0,
              "#0d0887"
             ],
             [
              0.1111111111111111,
              "#46039f"
             ],
             [
              0.2222222222222222,
              "#7201a8"
             ],
             [
              0.3333333333333333,
              "#9c179e"
             ],
             [
              0.4444444444444444,
              "#bd3786"
             ],
             [
              0.5555555555555556,
              "#d8576b"
             ],
             [
              0.6666666666666666,
              "#ed7953"
             ],
             [
              0.7777777777777778,
              "#fb9f3a"
             ],
             [
              0.8888888888888888,
              "#fdca26"
             ],
             [
              1,
              "#f0f921"
             ]
            ],
            "type": "contour"
           }
          ],
          "contourcarpet": [
           {
            "colorbar": {
             "outlinewidth": 0,
             "ticks": ""
            },
            "type": "contourcarpet"
           }
          ],
          "heatmap": [
           {
            "colorbar": {
             "outlinewidth": 0,
             "ticks": ""
            },
            "colorscale": [
             [
              0,
              "#0d0887"
             ],
             [
              0.1111111111111111,
              "#46039f"
             ],
             [
              0.2222222222222222,
              "#7201a8"
             ],
             [
              0.3333333333333333,
              "#9c179e"
             ],
             [
              0.4444444444444444,
              "#bd3786"
             ],
             [
              0.5555555555555556,
              "#d8576b"
             ],
             [
              0.6666666666666666,
              "#ed7953"
             ],
             [
              0.7777777777777778,
              "#fb9f3a"
             ],
             [
              0.8888888888888888,
              "#fdca26"
             ],
             [
              1,
              "#f0f921"
             ]
            ],
            "type": "heatmap"
           }
          ],
          "heatmapgl": [
           {
            "colorbar": {
             "outlinewidth": 0,
             "ticks": ""
            },
            "colorscale": [
             [
              0,
              "#0d0887"
             ],
             [
              0.1111111111111111,
              "#46039f"
             ],
             [
              0.2222222222222222,
              "#7201a8"
             ],
             [
              0.3333333333333333,
              "#9c179e"
             ],
             [
              0.4444444444444444,
              "#bd3786"
             ],
             [
              0.5555555555555556,
              "#d8576b"
             ],
             [
              0.6666666666666666,
              "#ed7953"
             ],
             [
              0.7777777777777778,
              "#fb9f3a"
             ],
             [
              0.8888888888888888,
              "#fdca26"
             ],
             [
              1,
              "#f0f921"
             ]
            ],
            "type": "heatmapgl"
           }
          ],
          "histogram": [
           {
            "marker": {
             "pattern": {
              "fillmode": "overlay",
              "size": 10,
              "solidity": 0.2
             }
            },
            "type": "histogram"
           }
          ],
          "histogram2d": [
           {
            "colorbar": {
             "outlinewidth": 0,
             "ticks": ""
            },
            "colorscale": [
             [
              0,
              "#0d0887"
             ],
             [
              0.1111111111111111,
              "#46039f"
             ],
             [
              0.2222222222222222,
              "#7201a8"
             ],
             [
              0.3333333333333333,
              "#9c179e"
             ],
             [
              0.4444444444444444,
              "#bd3786"
             ],
             [
              0.5555555555555556,
              "#d8576b"
             ],
             [
              0.6666666666666666,
              "#ed7953"
             ],
             [
              0.7777777777777778,
              "#fb9f3a"
             ],
             [
              0.8888888888888888,
              "#fdca26"
             ],
             [
              1,
              "#f0f921"
             ]
            ],
            "type": "histogram2d"
           }
          ],
          "histogram2dcontour": [
           {
            "colorbar": {
             "outlinewidth": 0,
             "ticks": ""
            },
            "colorscale": [
             [
              0,
              "#0d0887"
             ],
             [
              0.1111111111111111,
              "#46039f"
             ],
             [
              0.2222222222222222,
              "#7201a8"
             ],
             [
              0.3333333333333333,
              "#9c179e"
             ],
             [
              0.4444444444444444,
              "#bd3786"
             ],
             [
              0.5555555555555556,
              "#d8576b"
             ],
             [
              0.6666666666666666,
              "#ed7953"
             ],
             [
              0.7777777777777778,
              "#fb9f3a"
             ],
             [
              0.8888888888888888,
              "#fdca26"
             ],
             [
              1,
              "#f0f921"
             ]
            ],
            "type": "histogram2dcontour"
           }
          ],
          "mesh3d": [
           {
            "colorbar": {
             "outlinewidth": 0,
             "ticks": ""
            },
            "type": "mesh3d"
           }
          ],
          "parcoords": [
           {
            "line": {
             "colorbar": {
              "outlinewidth": 0,
              "ticks": ""
             }
            },
            "type": "parcoords"
           }
          ],
          "pie": [
           {
            "automargin": true,
            "type": "pie"
           }
          ],
          "scatter": [
           {
            "fillpattern": {
             "fillmode": "overlay",
             "size": 10,
             "solidity": 0.2
            },
            "type": "scatter"
           }
          ],
          "scatter3d": [
           {
            "line": {
             "colorbar": {
              "outlinewidth": 0,
              "ticks": ""
             }
            },
            "marker": {
             "colorbar": {
              "outlinewidth": 0,
              "ticks": ""
             }
            },
            "type": "scatter3d"
           }
          ],
          "scattercarpet": [
           {
            "marker": {
             "colorbar": {
              "outlinewidth": 0,
              "ticks": ""
             }
            },
            "type": "scattercarpet"
           }
          ],
          "scattergeo": [
           {
            "marker": {
             "colorbar": {
              "outlinewidth": 0,
              "ticks": ""
             }
            },
            "type": "scattergeo"
           }
          ],
          "scattergl": [
           {
            "marker": {
             "colorbar": {
              "outlinewidth": 0,
              "ticks": ""
             }
            },
            "type": "scattergl"
           }
          ],
          "scattermapbox": [
           {
            "marker": {
             "colorbar": {
              "outlinewidth": 0,
              "ticks": ""
             }
            },
            "type": "scattermapbox"
           }
          ],
          "scatterpolar": [
           {
            "marker": {
             "colorbar": {
              "outlinewidth": 0,
              "ticks": ""
             }
            },
            "type": "scatterpolar"
           }
          ],
          "scatterpolargl": [
           {
            "marker": {
             "colorbar": {
              "outlinewidth": 0,
              "ticks": ""
             }
            },
            "type": "scatterpolargl"
           }
          ],
          "scatterternary": [
           {
            "marker": {
             "colorbar": {
              "outlinewidth": 0,
              "ticks": ""
             }
            },
            "type": "scatterternary"
           }
          ],
          "surface": [
           {
            "colorbar": {
             "outlinewidth": 0,
             "ticks": ""
            },
            "colorscale": [
             [
              0,
              "#0d0887"
             ],
             [
              0.1111111111111111,
              "#46039f"
             ],
             [
              0.2222222222222222,
              "#7201a8"
             ],
             [
              0.3333333333333333,
              "#9c179e"
             ],
             [
              0.4444444444444444,
              "#bd3786"
             ],
             [
              0.5555555555555556,
              "#d8576b"
             ],
             [
              0.6666666666666666,
              "#ed7953"
             ],
             [
              0.7777777777777778,
              "#fb9f3a"
             ],
             [
              0.8888888888888888,
              "#fdca26"
             ],
             [
              1,
              "#f0f921"
             ]
            ],
            "type": "surface"
           }
          ],
          "table": [
           {
            "cells": {
             "fill": {
              "color": "#EBF0F8"
             },
             "line": {
              "color": "white"
             }
            },
            "header": {
             "fill": {
              "color": "#C8D4E3"
             },
             "line": {
              "color": "white"
             }
            },
            "type": "table"
           }
          ]
         },
         "layout": {
          "annotationdefaults": {
           "arrowcolor": "#2a3f5f",
           "arrowhead": 0,
           "arrowwidth": 1
          },
          "autotypenumbers": "strict",
          "coloraxis": {
           "colorbar": {
            "outlinewidth": 0,
            "ticks": ""
           }
          },
          "colorscale": {
           "diverging": [
            [
             0,
             "#8e0152"
            ],
            [
             0.1,
             "#c51b7d"
            ],
            [
             0.2,
             "#de77ae"
            ],
            [
             0.3,
             "#f1b6da"
            ],
            [
             0.4,
             "#fde0ef"
            ],
            [
             0.5,
             "#f7f7f7"
            ],
            [
             0.6,
             "#e6f5d0"
            ],
            [
             0.7,
             "#b8e186"
            ],
            [
             0.8,
             "#7fbc41"
            ],
            [
             0.9,
             "#4d9221"
            ],
            [
             1,
             "#276419"
            ]
           ],
           "sequential": [
            [
             0,
             "#0d0887"
            ],
            [
             0.1111111111111111,
             "#46039f"
            ],
            [
             0.2222222222222222,
             "#7201a8"
            ],
            [
             0.3333333333333333,
             "#9c179e"
            ],
            [
             0.4444444444444444,
             "#bd3786"
            ],
            [
             0.5555555555555556,
             "#d8576b"
            ],
            [
             0.6666666666666666,
             "#ed7953"
            ],
            [
             0.7777777777777778,
             "#fb9f3a"
            ],
            [
             0.8888888888888888,
             "#fdca26"
            ],
            [
             1,
             "#f0f921"
            ]
           ],
           "sequentialminus": [
            [
             0,
             "#0d0887"
            ],
            [
             0.1111111111111111,
             "#46039f"
            ],
            [
             0.2222222222222222,
             "#7201a8"
            ],
            [
             0.3333333333333333,
             "#9c179e"
            ],
            [
             0.4444444444444444,
             "#bd3786"
            ],
            [
             0.5555555555555556,
             "#d8576b"
            ],
            [
             0.6666666666666666,
             "#ed7953"
            ],
            [
             0.7777777777777778,
             "#fb9f3a"
            ],
            [
             0.8888888888888888,
             "#fdca26"
            ],
            [
             1,
             "#f0f921"
            ]
           ]
          },
          "colorway": [
           "#636efa",
           "#EF553B",
           "#00cc96",
           "#ab63fa",
           "#FFA15A",
           "#19d3f3",
           "#FF6692",
           "#B6E880",
           "#FF97FF",
           "#FECB52"
          ],
          "font": {
           "color": "#2a3f5f"
          },
          "geo": {
           "bgcolor": "white",
           "lakecolor": "white",
           "landcolor": "white",
           "showlakes": true,
           "showland": true,
           "subunitcolor": "#C8D4E3"
          },
          "hoverlabel": {
           "align": "left"
          },
          "hovermode": "closest",
          "mapbox": {
           "style": "light"
          },
          "paper_bgcolor": "white",
          "plot_bgcolor": "white",
          "polar": {
           "angularaxis": {
            "gridcolor": "#EBF0F8",
            "linecolor": "#EBF0F8",
            "ticks": ""
           },
           "bgcolor": "white",
           "radialaxis": {
            "gridcolor": "#EBF0F8",
            "linecolor": "#EBF0F8",
            "ticks": ""
           }
          },
          "scene": {
           "xaxis": {
            "backgroundcolor": "white",
            "gridcolor": "#DFE8F3",
            "gridwidth": 2,
            "linecolor": "#EBF0F8",
            "showbackground": true,
            "ticks": "",
            "zerolinecolor": "#EBF0F8"
           },
           "yaxis": {
            "backgroundcolor": "white",
            "gridcolor": "#DFE8F3",
            "gridwidth": 2,
            "linecolor": "#EBF0F8",
            "showbackground": true,
            "ticks": "",
            "zerolinecolor": "#EBF0F8"
           },
           "zaxis": {
            "backgroundcolor": "white",
            "gridcolor": "#DFE8F3",
            "gridwidth": 2,
            "linecolor": "#EBF0F8",
            "showbackground": true,
            "ticks": "",
            "zerolinecolor": "#EBF0F8"
           }
          },
          "shapedefaults": {
           "line": {
            "color": "#2a3f5f"
           }
          },
          "ternary": {
           "aaxis": {
            "gridcolor": "#DFE8F3",
            "linecolor": "#A2B1C6",
            "ticks": ""
           },
           "baxis": {
            "gridcolor": "#DFE8F3",
            "linecolor": "#A2B1C6",
            "ticks": ""
           },
           "bgcolor": "white",
           "caxis": {
            "gridcolor": "#DFE8F3",
            "linecolor": "#A2B1C6",
            "ticks": ""
           }
          },
          "title": {
           "x": 0.05
          },
          "xaxis": {
           "automargin": true,
           "gridcolor": "#EBF0F8",
           "linecolor": "#EBF0F8",
           "ticks": "",
           "title": {
            "standoff": 15
           },
           "zerolinecolor": "#EBF0F8",
           "zerolinewidth": 2
          },
          "yaxis": {
           "automargin": true,
           "gridcolor": "#EBF0F8",
           "linecolor": "#EBF0F8",
           "ticks": "",
           "title": {
            "standoff": 15
           },
           "zerolinecolor": "#EBF0F8",
           "zerolinewidth": 2
          }
         }
        },
        "title": {
         "text": "CTGAN loss function for dataset: "
        },
        "xaxis": {
         "title": {
          "text": "Epoch"
         }
        },
        "yaxis": {
         "title": {
          "text": "Loss"
         }
        }
       }
      }
     },
     "metadata": {},
     "output_type": "display_data"
    }
   ],
   "source": [
    "# Plot loss function of generator and discriminator\n",
    "fig = go.Figure(data=[go.Scatter(x=loss_values['Epoch'], y=loss_values['Generator Loss'], name='Generator Loss'),\n",
    "                      go.Scatter(x=loss_values['Epoch'], y=loss_values['Discriminator Loss'], name='Discriminator Loss')])\n",
    "\n",
    "# Update the layout for best viewing\n",
    "fig.update_layout(template='plotly_white',\n",
    "                    legend_orientation=\"h\",\n",
    "                    legend=dict(x=0, y=1.1))\n",
    "\n",
    "title = 'CTGAN loss function: '\n",
    "fig.update_layout(title=title, xaxis_title='Epoch', yaxis_title='Loss')\n",
    "fig.show()\n",
    "\n",
    "# Create evaluation folder if it does not exist\n",
    "evaluation_folder = 'evaluation'\n",
    "os.makedirs(evaluation_folder, exist_ok=True)\n",
    "\n",
    "# Save plot\n",
    "plot_html_file_path = os.path.join(evaluation_folder, f'plot_{model_log_file_name}.html')\n",
    "fig.write_html(plot_html_file_path)"
   ]
  }
 ],
 "metadata": {
  "kernelspec": {
   "display_name": "Python 3",
   "language": "python",
   "name": "python3"
  },
  "language_info": {
   "codemirror_mode": {
    "name": "ipython",
    "version": 3
   },
   "file_extension": ".py",
   "mimetype": "text/x-python",
   "name": "python",
   "nbconvert_exporter": "python",
   "pygments_lexer": "ipython3",
   "version": "3.11.1"
  }
 },
 "nbformat": 4,
 "nbformat_minor": 2
}

{
 "cells": [
  {
   "cell_type": "markdown",
   "metadata": {},
   "source": [
    "# Generating data on a CTGAN model/ synthesizer"
   ]
  },
  {
   "cell_type": "code",
   "execution_count": 84,
   "metadata": {},
   "outputs": [],
   "source": [
    "%%capture\n",
    "\n",
    "# Load libraries for generation\n",
    "\n",
    "import datetime\n",
    "import os\n",
    "import pandas as pd\n",
    "from sdv.single_table import CTGANSynthesizer\n",
    "from sdv.datasets.local import load_csvs\n",
    "from sdv.metadata import SingleTableMetadata"
   ]
  },
  {
   "cell_type": "code",
   "execution_count": 12,
   "metadata": {},
   "outputs": [],
   "source": [
    "# Ignore warnings"
   ]
  },
  {
   "cell_type": "code",
   "execution_count": 13,
   "metadata": {},
   "outputs": [],
   "source": [
    "# Get current timestamp for unique identifiers\n",
    "current_timestamp = datetime.datetime.now().strftime(\"%Y%m%d_%H%M%S\")\n",
    "\n",
    "# Set sampling parameters\n",
    "generate_rows = int(input(\"Enter the number of rows of synthetic data to generate: \"))\n",
    "batch_size = int(input(\"Enter the batch size for sampling synthetic data: \"))\n",
    "\n",
    "# Load existing model\n",
    "model_folder = 'model'\n",
    "model_name = input(\"Enter the model file name (without extension): \").lower()  #ctgan_filtered_new_data_ep1_mdl1\n",
    "model_path = os.path.join(model_folder, model_name + '.pkl')\n",
    "synthesizer = CTGANSynthesizer.load(filepath=model_path)"
   ]
  },
  {
   "cell_type": "code",
   "execution_count": null,
   "metadata": {},
   "outputs": [],
   "source": [
    "%%capture\n",
    "\n",
    "# Include metadata to run evaluations\n",
    "metadata_dict = {\n",
    "    \"columns\": {\n",
    "        \"Timestamp\": {\n",
    "            \"sdtype\": \"datetime\",\n",
    "            \"datetime_format\": \"%Y-%m-%d %H:%M:%S\"\n",
    "        },\n",
    "        \"Source.IP\": {\n",
    "            \"sdtype\": \"categorical\"\n",
    "        },\n",
    "        \"Source.Port\": {\n",
    "            \"sdtype\": \"categorical\"\n",
    "        },\n",
    "        \"Destination.IP\": {\n",
    "            \"sdtype\": \"categorical\"\n",
    "        },\n",
    "        \"Destination.Port\": {\n",
    "            \"sdtype\": \"categorical\"\n",
    "        },\n",
    "        \"Protocol\": {\n",
    "            \"sdtype\": \"categorical\"\n",
    "        },\n",
    "        \"Flow.Duration\": {\n",
    "            \"sdtype\": \"numerical\"\n",
    "        },\n",
    "        \"Total.Fwd.Packets\": {\n",
    "            \"sdtype\": \"numerical\"\n",
    "        },\n",
    "        \"Total.Backward.Packets\": {\n",
    "            \"sdtype\": \"numerical\"\n",
    "        },\n",
    "        \"Total.Length.of.Fwd.Packets\": {\n",
    "            \"sdtype\": \"numerical\"\n",
    "        },\n",
    "        \"Total.Length.of.Bwd.Packets\": {\n",
    "            \"sdtype\": \"numerical\"\n",
    "        }\n",
    "    },\n",
    "    \"METADATA_SPEC_VERSION\": \"SINGLE_TABLE_V1\"\n",
    "}\n",
    "metadata = SingleTableMetadata.load_from_dict(metadata_dict)"
   ]
  },
  {
   "cell_type": "markdown",
   "metadata": {},
   "source": [
    "# Sampling/ Generation\n",
    "\n",
    "Saves the synthetic data as a CSV to the output folder.\n",
    "Directory: synthetic_data_{model_name}_n{rows}_b{batch_size}_{timestamp}.csv"
   ]
  },
  {
   "cell_type": "code",
   "execution_count": null,
   "metadata": {},
   "outputs": [],
   "source": [
    "%%capture\n",
    "# Create output folder if it does not exist\n",
    "output_folder = 'output'\n",
    "os.makedirs(output_folder, exist_ok=True)\n",
    "output_name = f\"synthetic_data_{model_name.split('.')[0]}_n{generate_rows}_b{batch_size}_{current_timestamp}.csv\"\n",
    "output_path = os.path.join(output_folder, output_name)"
   ]
  },
  {
   "cell_type": "code",
   "execution_count": 58,
   "metadata": {},
   "outputs": [],
   "source": [
    "%%capture\n",
    "# Create log folder if it does not exist\n",
    "log_folder = 'logs'\n",
    "os.makedirs(log_folder, exist_ok=True)\n",
    "training_log_file_name = 'information.txt'\n",
    "training_log_file_name = os.path.join(log_folder, training_log_file_name)\n",
    "with open(training_log_file_name, 'a') as log:\n",
    "    log.write(f\"--- Synthetic data generation started at: {current_timestamp}\\n\")\n",
    "    log.write(f\"\\tModel name: {model_name}\\n\")\n",
    "    log.write(f\"\\tModel path: {model_path}\\n\")\n",
    "    log.write(f\"\\tGenerating {generate_rows} rows\\n\")\n",
    "    log.write(f\"\\tBatch size: {batch_size}\\n\")\n",
    "    log.write(f\"\\tOutput file path: {output_path}\\n\")"
   ]
  },
  {
   "cell_type": "code",
   "execution_count": 60,
   "metadata": {},
   "outputs": [
    {
     "name": "stdout",
     "output_type": "stream",
     "text": [
      "Final log file path: logs\\information.txt\n"
     ]
    }
   ],
   "source": [
    "print(\"Final log file path:\", training_log_file_name)"
   ]
  },
  {
   "cell_type": "code",
   "execution_count": null,
   "metadata": {},
   "outputs": [],
   "source": [
    "# Write synthetic data to output file\n",
    "synthetic_data = synthesizer.sample(\n",
    "    num_rows=generate_rows if generate_rows else 5000,  # Default to 5000 rows if not specified\n",
    "    batch_size=batch_size if batch_size else 32,  # Default to batch size of 32 if not specified\n",
    "    output_file_path=output_path\n",
    ")\n",
    "\n",
    "print(output_path)"
   ]
  }
 ],
 "metadata": {
  "kernelspec": {
   "display_name": "Python 3",
   "language": "python",
   "name": "python3"
  },
  "language_info": {
   "codemirror_mode": {
    "name": "ipython",
    "version": 3
   },
   "file_extension": ".py",
   "mimetype": "text/x-python",
   "name": "python",
   "nbconvert_exporter": "python",
   "pygments_lexer": "ipython3",
   "version": "3.11.1"
  }
 },
 "nbformat": 4,
 "nbformat_minor": 2
}
